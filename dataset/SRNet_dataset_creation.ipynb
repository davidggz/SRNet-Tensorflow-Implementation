{
 "cells": [
  {
   "cell_type": "markdown",
   "id": "64b67ada",
   "metadata": {},
   "source": [
    "# SRNet data set creation\n",
    "\n",
    "In this script the guidelines given in [\"Deep Residual Network for Steganalysis of Digital Images\" by Mehdi Boroumand et al.](https://ieeexplore.ieee.org/document/8470101) are followed in order to create a similar dataset using both [BOSS](http://agents.fel.cvut.cz/boss/) and [BOWS](http://bows2.ec-lille.fr/)."
   ]
  },
  {
   "cell_type": "code",
   "execution_count": 1,
   "id": "451e2c7e",
   "metadata": {},
   "outputs": [],
   "source": [
    "import os\n",
    "import random\n",
    "import numpy as np\n",
    "from shutil import copyfile"
   ]
  },
  {
   "cell_type": "code",
   "execution_count": 2,
   "id": "d8d839a7",
   "metadata": {},
   "outputs": [],
   "source": [
    "BOSSBASE_COVER_DIR = 'BOSSbase_1.01_cover_256x256'\n",
    "BOSSBASE_STEGO_DIR = 'BOSSbase_1.01_stego_0.4_256x256'\n",
    "BOWS_COVER_DIR = 'BOWS2OrigEp3_cover_256x256'\n",
    "BOWS_STEGO_DIR = 'BOWS2OrigEp3_stego_0.4_256x256'\n",
    "\n",
    "OUTPUT_DIR = 'SRNet-Dataset-0.4'\n",
    "\n",
    "SEED = 1\n",
    "random.seed(SEED)\n",
    "np.random.seed(SEED)"
   ]
  },
  {
   "cell_type": "markdown",
   "id": "867ef16e",
   "metadata": {},
   "source": [
    "## Selection of the images"
   ]
  },
  {
   "cell_type": "markdown",
   "id": "5fca97f2",
   "metadata": {},
   "source": [
    "### Train set"
   ]
  },
  {
   "cell_type": "code",
   "execution_count": 3,
   "id": "1b1a00aa",
   "metadata": {},
   "outputs": [],
   "source": [
    "boss_train_set = [] \n",
    "bows_train_set = []"
   ]
  },
  {
   "cell_type": "markdown",
   "id": "c325b84f",
   "metadata": {},
   "source": [
    "#### 4.000 pairs from BOSSBase"
   ]
  },
  {
   "cell_type": "code",
   "execution_count": 4,
   "id": "f2da15fd",
   "metadata": {},
   "outputs": [],
   "source": [
    "cover_bossbase_filenames = os.listdir(BOSSBASE_COVER_DIR)\n",
    "\n",
    "random_4000_boss_filenames = list(np.random.choice(cover_bossbase_filenames, size=4000, replace=False))\n",
    "boss_train_set.extend(random_4000_boss_filenames)"
   ]
  },
  {
   "cell_type": "code",
   "execution_count": 5,
   "id": "2621b48d",
   "metadata": {},
   "outputs": [
    {
     "data": {
      "text/plain": [
       "6000"
      ]
     },
     "execution_count": 5,
     "metadata": {},
     "output_type": "execute_result"
    }
   ],
   "source": [
    "# Remove the selected images\n",
    "cover_bossbase_filenames = list(set(cover_bossbase_filenames) - set(random_4000_boss_filenames))\n",
    "len(cover_bossbase_filenames)"
   ]
  },
  {
   "cell_type": "markdown",
   "id": "a828fd2a",
   "metadata": {},
   "source": [
    "#### The whole BOWS dataset"
   ]
  },
  {
   "cell_type": "code",
   "execution_count": 6,
   "id": "d3c51324",
   "metadata": {},
   "outputs": [
    {
     "data": {
      "text/plain": [
       "10000"
      ]
     },
     "execution_count": 6,
     "metadata": {},
     "output_type": "execute_result"
    }
   ],
   "source": [
    "cover_bows_filenames = os.listdir(BOWS_COVER_DIR)\n",
    "\n",
    "bows_train_set.extend(cover_bows_filenames)\n",
    "len(bows_train_set)"
   ]
  },
  {
   "cell_type": "markdown",
   "id": "76775f1e",
   "metadata": {},
   "source": [
    "### Validation"
   ]
  },
  {
   "cell_type": "code",
   "execution_count": 7,
   "id": "f7db1df1",
   "metadata": {},
   "outputs": [
    {
     "data": {
      "text/plain": [
       "5000"
      ]
     },
     "execution_count": 7,
     "metadata": {},
     "output_type": "execute_result"
    }
   ],
   "source": [
    "# 1.000 images for validation\n",
    "boss_val_set = list(np.random.choice(cover_bossbase_filenames, size=1000, replace=False))\n",
    "\n",
    "# Remove the 1.000 images from validation\n",
    "cover_bossbase_filenames = list(set(cover_bossbase_filenames) - set(boss_val_set))\n",
    "len(cover_bossbase_filenames)"
   ]
  },
  {
   "cell_type": "markdown",
   "id": "fbcbc6a1",
   "metadata": {},
   "source": [
    "### Test"
   ]
  },
  {
   "cell_type": "code",
   "execution_count": 8,
   "id": "e3149a59",
   "metadata": {},
   "outputs": [
    {
     "data": {
      "text/plain": [
       "5000"
      ]
     },
     "execution_count": 8,
     "metadata": {},
     "output_type": "execute_result"
    }
   ],
   "source": [
    "boss_test_set = cover_bossbase_filenames\n",
    "len(boss_test_set)"
   ]
  },
  {
   "cell_type": "code",
   "execution_count": 9,
   "id": "008f0672",
   "metadata": {},
   "outputs": [],
   "source": [
    "assert set(boss_test_set) & set(boss_val_set) & set(boss_train_set) == set()\n",
    "assert set(boss_test_set) & set(boss_val_set) == set()\n",
    "assert set(boss_test_set) & set(boss_train_set) == set()\n",
    "assert set(boss_val_set) & set(boss_train_set) == set()"
   ]
  },
  {
   "cell_type": "markdown",
   "id": "6de6c259",
   "metadata": {},
   "source": [
    "## Saving the images"
   ]
  },
  {
   "cell_type": "code",
   "execution_count": 10,
   "id": "13d82ee8",
   "metadata": {},
   "outputs": [],
   "source": [
    "# Generate the folders necessary to train and test.\n",
    "assert not os.path.isdir(OUTPUT_DIR)\n",
    "os.mkdir(OUTPUT_DIR)\n",
    "\n",
    "sets = ['train', 'val', 'test']\n",
    "for set_name in sets:\n",
    "    os.mkdir(os.path.join(OUTPUT_DIR, set_name))\n",
    "    os.mkdir(os.path.join(OUTPUT_DIR, set_name, '0'))\n",
    "    os.mkdir(os.path.join(OUTPUT_DIR, set_name, '1'))"
   ]
  },
  {
   "cell_type": "code",
   "execution_count": 11,
   "id": "be5da02f",
   "metadata": {},
   "outputs": [],
   "source": [
    "# Copy the images into their respective folders\n",
    "def copy_images_stego_cover_repetition_in_set(filenames, set_name, cover_dir, stego_dir):\n",
    "    \n",
    "    # Copy all the files into their respective folder\n",
    "    for image_name in filenames:\n",
    "        copyfile(os.path.join(cover_dir, image_name), \n",
    "                 os.path.join(OUTPUT_DIR, set_name, '0', image_name))\n",
    "        \n",
    "        copyfile(os.path.join(stego_dir, image_name), \n",
    "                 os.path.join(OUTPUT_DIR, set_name, '1', image_name))\n",
    "        \n",
    "copy_images_stego_cover_repetition_in_set(boss_train_set, 'train', BOSSBASE_COVER_DIR, BOSSBASE_STEGO_DIR)\n",
    "copy_images_stego_cover_repetition_in_set(bows_train_set, 'train', BOWS_COVER_DIR, BOWS_STEGO_DIR)\n",
    "\n",
    "copy_images_stego_cover_repetition_in_set(boss_val_set, 'val', BOSSBASE_COVER_DIR, BOSSBASE_STEGO_DIR)\n",
    "copy_images_stego_cover_repetition_in_set(boss_test_set, 'test', BOSSBASE_COVER_DIR, BOSSBASE_STEGO_DIR)"
   ]
  }
 ],
 "metadata": {
  "kernelspec": {
   "display_name": "Python 3 (ipykernel)",
   "language": "python",
   "name": "python3"
  },
  "language_info": {
   "codemirror_mode": {
    "name": "ipython",
    "version": 3
   },
   "file_extension": ".py",
   "mimetype": "text/x-python",
   "name": "python",
   "nbconvert_exporter": "python",
   "pygments_lexer": "ipython3",
   "version": "3.8.12"
  }
 },
 "nbformat": 4,
 "nbformat_minor": 5
}
